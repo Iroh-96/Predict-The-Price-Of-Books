{
  "nbformat": 4,
  "nbformat_minor": 0,
  "metadata": {
    "colab": {
      "name": "Predict Book Prices.ipynb",
      "provenance": [],
      "collapsed_sections": []
    },
    "kernelspec": {
      "name": "python3",
      "display_name": "Python 3"
    }
  },
  "cells": [
    {
      "cell_type": "code",
      "metadata": {
        "id": "Fk7wp3HgHo0h"
      },
      "source": [
        "import pandas as pd"
      ],
      "execution_count": 1,
      "outputs": []
    },
    {
      "cell_type": "code",
      "metadata": {
        "id": "PJB-UEbkH9J_"
      },
      "source": [
        "train = pd.read_excel(\"/content/Train.xlsx\")\n",
        "test = pd.read_excel(\"/content/Test.xlsx\")"
      ],
      "execution_count": 7,
      "outputs": []
    },
    {
      "cell_type": "code",
      "metadata": {
        "colab": {
          "base_uri": "https://localhost:8080/",
          "height": 313
        },
        "id": "rvQjb5Y4Iaf4",
        "outputId": "3ef13597-1a63-4a16-ed55-95e8769afe5f"
      },
      "source": [
        "train.head(5)\n"
      ],
      "execution_count": 8,
      "outputs": [
        {
          "output_type": "execute_result",
          "data": {
            "text/html": [
              "<div>\n",
              "<style scoped>\n",
              "    .dataframe tbody tr th:only-of-type {\n",
              "        vertical-align: middle;\n",
              "    }\n",
              "\n",
              "    .dataframe tbody tr th {\n",
              "        vertical-align: top;\n",
              "    }\n",
              "\n",
              "    .dataframe thead th {\n",
              "        text-align: right;\n",
              "    }\n",
              "</style>\n",
              "<table border=\"1\" class=\"dataframe\">\n",
              "  <thead>\n",
              "    <tr style=\"text-align: right;\">\n",
              "      <th></th>\n",
              "      <th>Title</th>\n",
              "      <th>Author</th>\n",
              "      <th>Edition</th>\n",
              "      <th>Reviews</th>\n",
              "      <th>Ratings</th>\n",
              "      <th>Synopsis</th>\n",
              "      <th>Genre</th>\n",
              "      <th>BookCategory</th>\n",
              "      <th>Price</th>\n",
              "    </tr>\n",
              "  </thead>\n",
              "  <tbody>\n",
              "    <tr>\n",
              "      <th>0</th>\n",
              "      <td>The Prisoner's Gold (The Hunters 3)</td>\n",
              "      <td>Chris Kuzneski</td>\n",
              "      <td>Paperback,– 10 Mar 2016</td>\n",
              "      <td>4.0 out of 5 stars</td>\n",
              "      <td>8 customer reviews</td>\n",
              "      <td>THE HUNTERS return in their third brilliant no...</td>\n",
              "      <td>Action &amp; Adventure (Books)</td>\n",
              "      <td>Action &amp; Adventure</td>\n",
              "      <td>220.00</td>\n",
              "    </tr>\n",
              "    <tr>\n",
              "      <th>1</th>\n",
              "      <td>Guru Dutt: A Tragedy in Three Acts</td>\n",
              "      <td>Arun Khopkar</td>\n",
              "      <td>Paperback,– 7 Nov 2012</td>\n",
              "      <td>3.9 out of 5 stars</td>\n",
              "      <td>14 customer reviews</td>\n",
              "      <td>A layered portrait of a troubled genius for wh...</td>\n",
              "      <td>Cinema &amp; Broadcast (Books)</td>\n",
              "      <td>Biographies, Diaries &amp; True Accounts</td>\n",
              "      <td>202.93</td>\n",
              "    </tr>\n",
              "    <tr>\n",
              "      <th>2</th>\n",
              "      <td>Leviathan (Penguin Classics)</td>\n",
              "      <td>Thomas Hobbes</td>\n",
              "      <td>Paperback,– 25 Feb 1982</td>\n",
              "      <td>4.8 out of 5 stars</td>\n",
              "      <td>6 customer reviews</td>\n",
              "      <td>\"During the time men live without a common Pow...</td>\n",
              "      <td>International Relations</td>\n",
              "      <td>Humour</td>\n",
              "      <td>299.00</td>\n",
              "    </tr>\n",
              "    <tr>\n",
              "      <th>3</th>\n",
              "      <td>A Pocket Full of Rye (Miss Marple)</td>\n",
              "      <td>Agatha Christie</td>\n",
              "      <td>Paperback,– 5 Oct 2017</td>\n",
              "      <td>4.1 out of 5 stars</td>\n",
              "      <td>13 customer reviews</td>\n",
              "      <td>A handful of grain is found in the pocket of a...</td>\n",
              "      <td>Contemporary Fiction (Books)</td>\n",
              "      <td>Crime, Thriller &amp; Mystery</td>\n",
              "      <td>180.00</td>\n",
              "    </tr>\n",
              "    <tr>\n",
              "      <th>4</th>\n",
              "      <td>LIFE 70 Years of Extraordinary Photography</td>\n",
              "      <td>Editors of Life</td>\n",
              "      <td>Hardcover,– 10 Oct 2006</td>\n",
              "      <td>5.0 out of 5 stars</td>\n",
              "      <td>1 customer review</td>\n",
              "      <td>For seven decades, \"Life\" has been thrilling t...</td>\n",
              "      <td>Photography Textbooks</td>\n",
              "      <td>Arts, Film &amp; Photography</td>\n",
              "      <td>965.62</td>\n",
              "    </tr>\n",
              "  </tbody>\n",
              "</table>\n",
              "</div>"
            ],
            "text/plain": [
              "                                        Title  ...   Price\n",
              "0         The Prisoner's Gold (The Hunters 3)  ...  220.00\n",
              "1          Guru Dutt: A Tragedy in Three Acts  ...  202.93\n",
              "2                Leviathan (Penguin Classics)  ...  299.00\n",
              "3          A Pocket Full of Rye (Miss Marple)  ...  180.00\n",
              "4  LIFE 70 Years of Extraordinary Photography  ...  965.62\n",
              "\n",
              "[5 rows x 9 columns]"
            ]
          },
          "metadata": {
            "tags": []
          },
          "execution_count": 8
        }
      ]
    },
    {
      "cell_type": "code",
      "metadata": {
        "colab": {
          "base_uri": "https://localhost:8080/"
        },
        "id": "oubLx_t7IdE9",
        "outputId": "f072179a-664b-441a-92bf-4c04233ab3f7"
      },
      "source": [
        "print(train.columns)"
      ],
      "execution_count": 9,
      "outputs": [
        {
          "output_type": "stream",
          "text": [
            "Index(['Title', 'Author', 'Edition', 'Reviews', 'Ratings', 'Synopsis', 'Genre',\n",
            "       'BookCategory', 'Price'],\n",
            "      dtype='object')\n"
          ],
          "name": "stdout"
        }
      ]
    },
    {
      "cell_type": "code",
      "metadata": {
        "id": "vJxU4vIaIf1B"
      },
      "source": [
        "\n",
        "\n",
        "train = train[['Title', 'Author', 'Edition', 'Reviews', 'Ratings','Genre',\n",
        "               'BookCategory', 'Price']]\n",
        "\n",
        "test = test[['Title', 'Author', 'Edition', 'Reviews', 'Ratings','Genre',\n",
        "               'BookCategory']]"
      ],
      "execution_count": 10,
      "outputs": []
    },
    {
      "cell_type": "code",
      "metadata": {
        "colab": {
          "base_uri": "https://localhost:8080/",
          "height": 279
        },
        "id": "FU0taVn1I0Jk",
        "outputId": "2628beb8-cc8b-4d0b-9f79-554c91cf4a61"
      },
      "source": [
        "train.head()"
      ],
      "execution_count": 11,
      "outputs": [
        {
          "output_type": "execute_result",
          "data": {
            "text/html": [
              "<div>\n",
              "<style scoped>\n",
              "    .dataframe tbody tr th:only-of-type {\n",
              "        vertical-align: middle;\n",
              "    }\n",
              "\n",
              "    .dataframe tbody tr th {\n",
              "        vertical-align: top;\n",
              "    }\n",
              "\n",
              "    .dataframe thead th {\n",
              "        text-align: right;\n",
              "    }\n",
              "</style>\n",
              "<table border=\"1\" class=\"dataframe\">\n",
              "  <thead>\n",
              "    <tr style=\"text-align: right;\">\n",
              "      <th></th>\n",
              "      <th>Title</th>\n",
              "      <th>Author</th>\n",
              "      <th>Edition</th>\n",
              "      <th>Reviews</th>\n",
              "      <th>Ratings</th>\n",
              "      <th>Genre</th>\n",
              "      <th>BookCategory</th>\n",
              "      <th>Price</th>\n",
              "    </tr>\n",
              "  </thead>\n",
              "  <tbody>\n",
              "    <tr>\n",
              "      <th>0</th>\n",
              "      <td>The Prisoner's Gold (The Hunters 3)</td>\n",
              "      <td>Chris Kuzneski</td>\n",
              "      <td>Paperback,– 10 Mar 2016</td>\n",
              "      <td>4.0 out of 5 stars</td>\n",
              "      <td>8 customer reviews</td>\n",
              "      <td>Action &amp; Adventure (Books)</td>\n",
              "      <td>Action &amp; Adventure</td>\n",
              "      <td>220.00</td>\n",
              "    </tr>\n",
              "    <tr>\n",
              "      <th>1</th>\n",
              "      <td>Guru Dutt: A Tragedy in Three Acts</td>\n",
              "      <td>Arun Khopkar</td>\n",
              "      <td>Paperback,– 7 Nov 2012</td>\n",
              "      <td>3.9 out of 5 stars</td>\n",
              "      <td>14 customer reviews</td>\n",
              "      <td>Cinema &amp; Broadcast (Books)</td>\n",
              "      <td>Biographies, Diaries &amp; True Accounts</td>\n",
              "      <td>202.93</td>\n",
              "    </tr>\n",
              "    <tr>\n",
              "      <th>2</th>\n",
              "      <td>Leviathan (Penguin Classics)</td>\n",
              "      <td>Thomas Hobbes</td>\n",
              "      <td>Paperback,– 25 Feb 1982</td>\n",
              "      <td>4.8 out of 5 stars</td>\n",
              "      <td>6 customer reviews</td>\n",
              "      <td>International Relations</td>\n",
              "      <td>Humour</td>\n",
              "      <td>299.00</td>\n",
              "    </tr>\n",
              "    <tr>\n",
              "      <th>3</th>\n",
              "      <td>A Pocket Full of Rye (Miss Marple)</td>\n",
              "      <td>Agatha Christie</td>\n",
              "      <td>Paperback,– 5 Oct 2017</td>\n",
              "      <td>4.1 out of 5 stars</td>\n",
              "      <td>13 customer reviews</td>\n",
              "      <td>Contemporary Fiction (Books)</td>\n",
              "      <td>Crime, Thriller &amp; Mystery</td>\n",
              "      <td>180.00</td>\n",
              "    </tr>\n",
              "    <tr>\n",
              "      <th>4</th>\n",
              "      <td>LIFE 70 Years of Extraordinary Photography</td>\n",
              "      <td>Editors of Life</td>\n",
              "      <td>Hardcover,– 10 Oct 2006</td>\n",
              "      <td>5.0 out of 5 stars</td>\n",
              "      <td>1 customer review</td>\n",
              "      <td>Photography Textbooks</td>\n",
              "      <td>Arts, Film &amp; Photography</td>\n",
              "      <td>965.62</td>\n",
              "    </tr>\n",
              "  </tbody>\n",
              "</table>\n",
              "</div>"
            ],
            "text/plain": [
              "                                        Title  ...   Price\n",
              "0         The Prisoner's Gold (The Hunters 3)  ...  220.00\n",
              "1          Guru Dutt: A Tragedy in Three Acts  ...  202.93\n",
              "2                Leviathan (Penguin Classics)  ...  299.00\n",
              "3          A Pocket Full of Rye (Miss Marple)  ...  180.00\n",
              "4  LIFE 70 Years of Extraordinary Photography  ...  965.62\n",
              "\n",
              "[5 rows x 8 columns]"
            ]
          },
          "metadata": {
            "tags": []
          },
          "execution_count": 11
        }
      ]
    },
    {
      "cell_type": "code",
      "metadata": {
        "colab": {
          "base_uri": "https://localhost:8080/"
        },
        "id": "l4d99GWLJI6J",
        "outputId": "7383ccad-8b59-4dd0-eba7-5d9e17a754fb"
      },
      "source": [
        "train.isnull().sum()"
      ],
      "execution_count": 12,
      "outputs": [
        {
          "output_type": "execute_result",
          "data": {
            "text/plain": [
              "Title           0\n",
              "Author          0\n",
              "Edition         0\n",
              "Reviews         0\n",
              "Ratings         0\n",
              "Genre           0\n",
              "BookCategory    0\n",
              "Price           0\n",
              "dtype: int64"
            ]
          },
          "metadata": {
            "tags": []
          },
          "execution_count": 12
        }
      ]
    },
    {
      "cell_type": "code",
      "metadata": {
        "id": "zq3Gvw6fJLgM"
      },
      "source": [
        "\n",
        "\n",
        "def split_edition(data):  \n",
        "  \n",
        "  edition  = list(data)\n",
        "  \n",
        "  ed_type = [i.split(\",– \")[0].strip().upper() for i in edition]\n",
        "  \n",
        "  edit_date = [i.split(\",– \")[1].strip() for i in edition]\n",
        "  \n",
        "  m_y = [i.split()[-2:] for i in edit_date]\n",
        "  \n",
        "  \n",
        "  for i in range(len(m_y)):\n",
        "    if len(m_y[i]) == 1:\n",
        "      m_y[i].insert(0,'NA')\n",
        "      \n",
        " \n",
        "  \n",
        "  months =  ['Apr','Aug','Dec','Feb', 'Jan', 'Jul','Jun','Mar','May','NA','Nov','Oct','Sep']\n",
        "  \n",
        "  ed_month = [m_y[i][0].upper() if m_y[i][0] in months else 'NA' for i in range(len(m_y))]\n",
        "  ed_year = [int(m_y[i][1].strip()) if m_y[i][1].isdigit() else 0 for i in range(len(m_y))]\n",
        "  \n",
        "  return ed_type, ed_month, ed_year"
      ],
      "execution_count": 13,
      "outputs": []
    },
    {
      "cell_type": "code",
      "metadata": {
        "colab": {
          "base_uri": "https://localhost:8080/"
        },
        "id": "BhoB8GcCJojZ",
        "outputId": "dbba426c-4d59-4864-af9b-fda74a35b5aa"
      },
      "source": [
        "\n",
        "authors_1 = list(train['Author'])\n",
        "authors_2 = list(test['Author'])\n",
        "\n",
        "authors_1.extend(authors_2)\n",
        "\n",
        "authorslis = [i.split(\",\") for i in authors_1]\n",
        "\n",
        "max = 1\n",
        "for i in authorslis:\n",
        "  if len(i) >= max:\n",
        "    max = len(i)\n",
        "print(\"Max. number of authors for a single boook = \",max)\n",
        "\n",
        "for i in range(len(authorslis)):\n",
        "  if len(authorslis[i]) == max:\n",
        "    print(i)    \n",
        "    \n",
        "all_authors = [author.strip().upper() for listin in authorslis for author in listin]"
      ],
      "execution_count": 14,
      "outputs": [
        {
          "output_type": "stream",
          "text": [
            "Max. number of authors for a single boook =  7\n",
            "7008\n"
          ],
          "name": "stdout"
        }
      ]
    },
    {
      "cell_type": "code",
      "metadata": {
        "id": "oVSJ6_wEJtRU"
      },
      "source": [
        "\n",
        "def split_authors(data):\n",
        "  \n",
        "  authors = list(data)\n",
        "  \n",
        "  A1 = []\n",
        "  A2 = []\n",
        "  A3 = []\n",
        "  A4 = []\n",
        "  A5 = []\n",
        "  A6 = []\n",
        "  A7 = []\n",
        "  for i in authors:\n",
        "    \n",
        "    try :\n",
        "      A1.append(i.split(',')[0].strip().upper())\n",
        "    except :\n",
        "      A1.append('NONE')\n",
        "      \n",
        "    try :\n",
        "      A2.append(i.split(',')[1].strip().upper())\n",
        "    except :\n",
        "      A2.append('NONE')\n",
        "        \n",
        "    try :\n",
        "      A3.append(i.split(',')[2].strip().upper())\n",
        "    except :\n",
        "      A3.append('NONE')\n",
        "        \n",
        "    try :\n",
        "      A4.append(i.split(',')[3].strip().upper())\n",
        "    except :\n",
        "      A4.append('NONE')\n",
        "        \n",
        "    try :\n",
        "      A5.append(i.split(',')[4].strip().upper())\n",
        "    except :\n",
        "      A5.append('NONE')\n",
        "      \n",
        "    try :\n",
        "      A6.append(i.split(',')[5].strip().upper())\n",
        "    except :\n",
        "      A6.append('NONE')\n",
        "     \n",
        "    try :\n",
        "      A7.append(i.split(',')[6].strip().upper())\n",
        "    except :\n",
        "      A7.append('NONE')\n",
        "\n",
        "      \n",
        "  return A1,A2,A3,A4,A5,A6,A7\n",
        "  \n",
        "all_authors.append('NONE')"
      ],
      "execution_count": 15,
      "outputs": []
    },
    {
      "cell_type": "code",
      "metadata": {
        "colab": {
          "base_uri": "https://localhost:8080/"
        },
        "id": "aZjdTRPTJyP1",
        "outputId": "572250c4-16a6-404f-8320-548d0da804fd"
      },
      "source": [
        "\n",
        "\n",
        "genre_1 = list(train['Genre'])\n",
        "genre_2 = list(test['Genre'])\n",
        "\n",
        "genre_1.extend(genre_2)\n",
        "\n",
        "genre_lis = [i.split(\",\") for i in genre_1]\n",
        "\n",
        "\n",
        "max = 1\n",
        "for i in genre_lis:\n",
        "  if len(i) >= max:\n",
        "    max = len(i)\n",
        "print(\"Max. number of genres for a single boook = \",max)\n",
        "      \n",
        "all_genres = [genre.strip().upper() for listin in genre_lis for genre in listin]"
      ],
      "execution_count": 16,
      "outputs": [
        {
          "output_type": "stream",
          "text": [
            "Max. number of genres for a single boook =  2\n"
          ],
          "name": "stdout"
        }
      ]
    },
    {
      "cell_type": "code",
      "metadata": {
        "id": "PnIjc3vKJ4u3"
      },
      "source": [
        "\n",
        "\n",
        "def split_genres(data):\n",
        "  \n",
        "  genres = list(data)\n",
        "  \n",
        "  G1 = []\n",
        "  G2 = []\n",
        "  \n",
        "  for i in genres:\n",
        "    \n",
        "    try :\n",
        "      G1.append(i.split(',')[0].strip().upper())\n",
        "      \n",
        "    except :\n",
        "      G1.append('NONE')\n",
        "      \n",
        "    try :\n",
        "      G2.append(i.split(',')[1].strip().upper())\n",
        "    except :\n",
        "      G2.append('NONE')\n",
        "\n",
        "\n",
        "      \n",
        "  return G1,G2\n",
        "  \n",
        "all_genres.append('NONE')"
      ],
      "execution_count": 17,
      "outputs": []
    },
    {
      "cell_type": "code",
      "metadata": {
        "colab": {
          "base_uri": "https://localhost:8080/"
        },
        "id": "d77kI7Q8J80j",
        "outputId": "d14ec2ea-bde8-4782-8ca2-71ec8244982c"
      },
      "source": [
        "\n",
        "\n",
        "cat_1 = list(train['BookCategory'])\n",
        "cat_2 = list(test['BookCategory'])\n",
        "\n",
        "cat_1.extend(cat_2)\n",
        "\n",
        "cat_lis = [i.split(\",\") for i in cat_1]\n",
        "\n",
        "\n",
        "max = 1\n",
        "for i in cat_lis:\n",
        "  if len(i) >= max:\n",
        "    max = len(i)\n",
        "print(\"Max. number of Categories for a single boook = \",max)\n",
        "\n",
        "all_categories = [cat.strip().upper() for listin in cat_lis for cat in listin]"
      ],
      "execution_count": 18,
      "outputs": [
        {
          "output_type": "stream",
          "text": [
            "Max. number of Categories for a single boook =  2\n"
          ],
          "name": "stdout"
        }
      ]
    },
    {
      "cell_type": "code",
      "metadata": {
        "id": "n6fHfWwSKG2F"
      },
      "source": [
        "\n",
        "\n",
        "def split_categories(data):\n",
        "  \n",
        "  cat = list(data)\n",
        "  \n",
        "  C1 = []\n",
        "  C2 = []\n",
        "\n",
        "  for i in cat:\n",
        "    \n",
        "    try :\n",
        "      C1.append(i.split(',')[0].strip().upper())\n",
        "    except :\n",
        "      C1.append('NONE')\n",
        "      \n",
        "    try :\n",
        "      C2.append(i.split(',')[1].strip().upper())\n",
        "    except :\n",
        "      C2.append('NONE')\n",
        "\n",
        "\n",
        "      \n",
        "  return C1,C2\n",
        "  \n",
        "all_categories.append('NONE')"
      ],
      "execution_count": 19,
      "outputs": []
    },
    {
      "cell_type": "code",
      "metadata": {
        "id": "mikft9fQKI-c"
      },
      "source": [
        "\n",
        "\n",
        "import re\n",
        "\n",
        "def restructure(data):\n",
        "  \n",
        "  \n",
        "  titles = list(data['Title'])\n",
        "  titles = [title.strip().upper() for title in titles]\n",
        "  \n",
        "  a1,a2,a3,a4,a5,a6,a7 = split_authors(data['Author']) \n",
        "  \n",
        "  ed_type, ed_month, ed_year = split_edition(data['Edition'])\n",
        " \n",
        "  ratings = list(data['Reviews'])\n",
        "  ratings = [float(re.sub(\" out of 5 stars\", \"\", i).strip()) for i in ratings]\n",
        "  \n",
        "  reviews = list(data['Ratings'])\n",
        "  plu = ' customer reviews'\n",
        "  reviews = [re.sub(\" customer reviews\", \"\", i) if plu in i else re.sub(\" customer review\", \"\", i) for i in reviews  ]\n",
        "  reviews = [int(re.sub(\",\", \"\", i).strip()) for i in reviews ]\n",
        "  \n",
        "\n",
        "\n",
        "  g1, g2 = split_genres(data['Genre'])\n",
        "  \n",
        "  \n",
        "  c1,c2 = split_categories(data['BookCategory'])\n",
        "\n",
        "  structured_data = pd.DataFrame({'Title': titles,\n",
        "                                  'Author1': a1,\n",
        "                                  'Author2': a2,\n",
        "                                  'Author3': a3,\n",
        "                                  'Author4': a4,\n",
        "                                  'Author5': a5,\n",
        "                                  'Author6': a6,\n",
        "                                  'Author7': a7,\n",
        "                                  'Edition_Type': ed_type,\n",
        "                                  'Edition_Month': ed_month,\n",
        "                                  'Edition_Year': ed_year,\n",
        "                                  'Ratings': ratings,\n",
        "                                  'Reviews': reviews,\n",
        "                                  'Genre1': g1,\n",
        "                                  'Genre2': g2,\n",
        "                                  'Category1': c1,\n",
        "                                  'Category2': c2\n",
        "                                  \n",
        "                               })\n",
        "  \n",
        "  return structured_data"
      ],
      "execution_count": 20,
      "outputs": []
    },
    {
      "cell_type": "code",
      "metadata": {
        "colab": {
          "base_uri": "https://localhost:8080/",
          "height": 290
        },
        "id": "b2A12S-3KMAU",
        "outputId": "c36530e7-216c-49a0-94af-bea27b265a1f"
      },
      "source": [
        "restructure(train).head(3)"
      ],
      "execution_count": 21,
      "outputs": [
        {
          "output_type": "execute_result",
          "data": {
            "text/html": [
              "<div>\n",
              "<style scoped>\n",
              "    .dataframe tbody tr th:only-of-type {\n",
              "        vertical-align: middle;\n",
              "    }\n",
              "\n",
              "    .dataframe tbody tr th {\n",
              "        vertical-align: top;\n",
              "    }\n",
              "\n",
              "    .dataframe thead th {\n",
              "        text-align: right;\n",
              "    }\n",
              "</style>\n",
              "<table border=\"1\" class=\"dataframe\">\n",
              "  <thead>\n",
              "    <tr style=\"text-align: right;\">\n",
              "      <th></th>\n",
              "      <th>Title</th>\n",
              "      <th>Author1</th>\n",
              "      <th>Author2</th>\n",
              "      <th>Author3</th>\n",
              "      <th>Author4</th>\n",
              "      <th>Author5</th>\n",
              "      <th>Author6</th>\n",
              "      <th>Author7</th>\n",
              "      <th>Edition_Type</th>\n",
              "      <th>Edition_Month</th>\n",
              "      <th>Edition_Year</th>\n",
              "      <th>Ratings</th>\n",
              "      <th>Reviews</th>\n",
              "      <th>Genre1</th>\n",
              "      <th>Genre2</th>\n",
              "      <th>Category1</th>\n",
              "      <th>Category2</th>\n",
              "    </tr>\n",
              "  </thead>\n",
              "  <tbody>\n",
              "    <tr>\n",
              "      <th>0</th>\n",
              "      <td>THE PRISONER'S GOLD (THE HUNTERS 3)</td>\n",
              "      <td>CHRIS KUZNESKI</td>\n",
              "      <td>NONE</td>\n",
              "      <td>NONE</td>\n",
              "      <td>NONE</td>\n",
              "      <td>NONE</td>\n",
              "      <td>NONE</td>\n",
              "      <td>NONE</td>\n",
              "      <td>PAPERBACK</td>\n",
              "      <td>MAR</td>\n",
              "      <td>2016</td>\n",
              "      <td>4.0</td>\n",
              "      <td>8</td>\n",
              "      <td>ACTION &amp; ADVENTURE (BOOKS)</td>\n",
              "      <td>NONE</td>\n",
              "      <td>ACTION &amp; ADVENTURE</td>\n",
              "      <td>NONE</td>\n",
              "    </tr>\n",
              "    <tr>\n",
              "      <th>1</th>\n",
              "      <td>GURU DUTT: A TRAGEDY IN THREE ACTS</td>\n",
              "      <td>ARUN KHOPKAR</td>\n",
              "      <td>NONE</td>\n",
              "      <td>NONE</td>\n",
              "      <td>NONE</td>\n",
              "      <td>NONE</td>\n",
              "      <td>NONE</td>\n",
              "      <td>NONE</td>\n",
              "      <td>PAPERBACK</td>\n",
              "      <td>NOV</td>\n",
              "      <td>2012</td>\n",
              "      <td>3.9</td>\n",
              "      <td>14</td>\n",
              "      <td>CINEMA &amp; BROADCAST (BOOKS)</td>\n",
              "      <td>NONE</td>\n",
              "      <td>BIOGRAPHIES</td>\n",
              "      <td>DIARIES &amp; TRUE ACCOUNTS</td>\n",
              "    </tr>\n",
              "    <tr>\n",
              "      <th>2</th>\n",
              "      <td>LEVIATHAN (PENGUIN CLASSICS)</td>\n",
              "      <td>THOMAS HOBBES</td>\n",
              "      <td>NONE</td>\n",
              "      <td>NONE</td>\n",
              "      <td>NONE</td>\n",
              "      <td>NONE</td>\n",
              "      <td>NONE</td>\n",
              "      <td>NONE</td>\n",
              "      <td>PAPERBACK</td>\n",
              "      <td>FEB</td>\n",
              "      <td>1982</td>\n",
              "      <td>4.8</td>\n",
              "      <td>6</td>\n",
              "      <td>INTERNATIONAL RELATIONS</td>\n",
              "      <td>NONE</td>\n",
              "      <td>HUMOUR</td>\n",
              "      <td>NONE</td>\n",
              "    </tr>\n",
              "  </tbody>\n",
              "</table>\n",
              "</div>"
            ],
            "text/plain": [
              "                                 Title  ...                Category2\n",
              "0  THE PRISONER'S GOLD (THE HUNTERS 3)  ...                     NONE\n",
              "1   GURU DUTT: A TRAGEDY IN THREE ACTS  ...  DIARIES & TRUE ACCOUNTS\n",
              "2         LEVIATHAN (PENGUIN CLASSICS)  ...                     NONE\n",
              "\n",
              "[3 rows x 17 columns]"
            ]
          },
          "metadata": {
            "tags": []
          },
          "execution_count": 21
        }
      ]
    },
    {
      "cell_type": "code",
      "metadata": {
        "id": "hTiEkeQbKNx5"
      },
      "source": [
        "X_train = restructure(train)\n",
        "\n",
        "Y_train = train.iloc[:, -1].values\n",
        "\n",
        "X_test = restructure(test)"
      ],
      "execution_count": 22,
      "outputs": []
    },
    {
      "cell_type": "code",
      "metadata": {
        "colab": {
          "base_uri": "https://localhost:8080/",
          "height": 460
        },
        "id": "_NV7LIfdKPt0",
        "outputId": "b9ad4486-4df7-413f-cdc6-75a86f0fbf2c"
      },
      "source": [
        "\n",
        "X_train.describe(include = 'all')"
      ],
      "execution_count": 23,
      "outputs": [
        {
          "output_type": "execute_result",
          "data": {
            "text/html": [
              "<div>\n",
              "<style scoped>\n",
              "    .dataframe tbody tr th:only-of-type {\n",
              "        vertical-align: middle;\n",
              "    }\n",
              "\n",
              "    .dataframe tbody tr th {\n",
              "        vertical-align: top;\n",
              "    }\n",
              "\n",
              "    .dataframe thead th {\n",
              "        text-align: right;\n",
              "    }\n",
              "</style>\n",
              "<table border=\"1\" class=\"dataframe\">\n",
              "  <thead>\n",
              "    <tr style=\"text-align: right;\">\n",
              "      <th></th>\n",
              "      <th>Title</th>\n",
              "      <th>Author1</th>\n",
              "      <th>Author2</th>\n",
              "      <th>Author3</th>\n",
              "      <th>Author4</th>\n",
              "      <th>Author5</th>\n",
              "      <th>Author6</th>\n",
              "      <th>Author7</th>\n",
              "      <th>Edition_Type</th>\n",
              "      <th>Edition_Month</th>\n",
              "      <th>Edition_Year</th>\n",
              "      <th>Ratings</th>\n",
              "      <th>Reviews</th>\n",
              "      <th>Genre1</th>\n",
              "      <th>Genre2</th>\n",
              "      <th>Category1</th>\n",
              "      <th>Category2</th>\n",
              "    </tr>\n",
              "  </thead>\n",
              "  <tbody>\n",
              "    <tr>\n",
              "      <th>count</th>\n",
              "      <td>6237</td>\n",
              "      <td>6237</td>\n",
              "      <td>6237</td>\n",
              "      <td>6237</td>\n",
              "      <td>6237</td>\n",
              "      <td>6237</td>\n",
              "      <td>6237</td>\n",
              "      <td>6237</td>\n",
              "      <td>6237</td>\n",
              "      <td>6237</td>\n",
              "      <td>6237.000000</td>\n",
              "      <td>6237.000000</td>\n",
              "      <td>6237.000000</td>\n",
              "      <td>6237</td>\n",
              "      <td>6237</td>\n",
              "      <td>6237</td>\n",
              "      <td>6237</td>\n",
              "    </tr>\n",
              "    <tr>\n",
              "      <th>unique</th>\n",
              "      <td>5564</td>\n",
              "      <td>3633</td>\n",
              "      <td>264</td>\n",
              "      <td>73</td>\n",
              "      <td>21</td>\n",
              "      <td>5</td>\n",
              "      <td>1</td>\n",
              "      <td>1</td>\n",
              "      <td>19</td>\n",
              "      <td>13</td>\n",
              "      <td>NaN</td>\n",
              "      <td>NaN</td>\n",
              "      <td>NaN</td>\n",
              "      <td>345</td>\n",
              "      <td>27</td>\n",
              "      <td>11</td>\n",
              "      <td>6</td>\n",
              "    </tr>\n",
              "    <tr>\n",
              "      <th>top</th>\n",
              "      <td>CASINO ROYALE: JAMES BOND 007 (VINTAGE)</td>\n",
              "      <td>AGATHA CHRISTIE</td>\n",
              "      <td>NONE</td>\n",
              "      <td>NONE</td>\n",
              "      <td>NONE</td>\n",
              "      <td>NONE</td>\n",
              "      <td>NONE</td>\n",
              "      <td>NONE</td>\n",
              "      <td>PAPERBACK</td>\n",
              "      <td>OCT</td>\n",
              "      <td>NaN</td>\n",
              "      <td>NaN</td>\n",
              "      <td>NaN</td>\n",
              "      <td>ACTION &amp; ADVENTURE (BOOKS)</td>\n",
              "      <td>NONE</td>\n",
              "      <td>ACTION &amp; ADVENTURE</td>\n",
              "      <td>NONE</td>\n",
              "    </tr>\n",
              "    <tr>\n",
              "      <th>freq</th>\n",
              "      <td>4</td>\n",
              "      <td>69</td>\n",
              "      <td>5929</td>\n",
              "      <td>6159</td>\n",
              "      <td>6214</td>\n",
              "      <td>6233</td>\n",
              "      <td>6237</td>\n",
              "      <td>6237</td>\n",
              "      <td>5193</td>\n",
              "      <td>639</td>\n",
              "      <td>NaN</td>\n",
              "      <td>NaN</td>\n",
              "      <td>NaN</td>\n",
              "      <td>947</td>\n",
              "      <td>5594</td>\n",
              "      <td>818</td>\n",
              "      <td>3297</td>\n",
              "    </tr>\n",
              "    <tr>\n",
              "      <th>mean</th>\n",
              "      <td>NaN</td>\n",
              "      <td>NaN</td>\n",
              "      <td>NaN</td>\n",
              "      <td>NaN</td>\n",
              "      <td>NaN</td>\n",
              "      <td>NaN</td>\n",
              "      <td>NaN</td>\n",
              "      <td>NaN</td>\n",
              "      <td>NaN</td>\n",
              "      <td>NaN</td>\n",
              "      <td>2005.101972</td>\n",
              "      <td>4.293202</td>\n",
              "      <td>35.984287</td>\n",
              "      <td>NaN</td>\n",
              "      <td>NaN</td>\n",
              "      <td>NaN</td>\n",
              "      <td>NaN</td>\n",
              "    </tr>\n",
              "    <tr>\n",
              "      <th>std</th>\n",
              "      <td>NaN</td>\n",
              "      <td>NaN</td>\n",
              "      <td>NaN</td>\n",
              "      <td>NaN</td>\n",
              "      <td>NaN</td>\n",
              "      <td>NaN</td>\n",
              "      <td>NaN</td>\n",
              "      <td>NaN</td>\n",
              "      <td>NaN</td>\n",
              "      <td>NaN</td>\n",
              "      <td>116.821510</td>\n",
              "      <td>0.662501</td>\n",
              "      <td>149.995031</td>\n",
              "      <td>NaN</td>\n",
              "      <td>NaN</td>\n",
              "      <td>NaN</td>\n",
              "      <td>NaN</td>\n",
              "    </tr>\n",
              "    <tr>\n",
              "      <th>min</th>\n",
              "      <td>NaN</td>\n",
              "      <td>NaN</td>\n",
              "      <td>NaN</td>\n",
              "      <td>NaN</td>\n",
              "      <td>NaN</td>\n",
              "      <td>NaN</td>\n",
              "      <td>NaN</td>\n",
              "      <td>NaN</td>\n",
              "      <td>NaN</td>\n",
              "      <td>NaN</td>\n",
              "      <td>0.000000</td>\n",
              "      <td>1.000000</td>\n",
              "      <td>1.000000</td>\n",
              "      <td>NaN</td>\n",
              "      <td>NaN</td>\n",
              "      <td>NaN</td>\n",
              "      <td>NaN</td>\n",
              "    </tr>\n",
              "    <tr>\n",
              "      <th>25%</th>\n",
              "      <td>NaN</td>\n",
              "      <td>NaN</td>\n",
              "      <td>NaN</td>\n",
              "      <td>NaN</td>\n",
              "      <td>NaN</td>\n",
              "      <td>NaN</td>\n",
              "      <td>NaN</td>\n",
              "      <td>NaN</td>\n",
              "      <td>NaN</td>\n",
              "      <td>NaN</td>\n",
              "      <td>2010.000000</td>\n",
              "      <td>4.000000</td>\n",
              "      <td>2.000000</td>\n",
              "      <td>NaN</td>\n",
              "      <td>NaN</td>\n",
              "      <td>NaN</td>\n",
              "      <td>NaN</td>\n",
              "    </tr>\n",
              "    <tr>\n",
              "      <th>50%</th>\n",
              "      <td>NaN</td>\n",
              "      <td>NaN</td>\n",
              "      <td>NaN</td>\n",
              "      <td>NaN</td>\n",
              "      <td>NaN</td>\n",
              "      <td>NaN</td>\n",
              "      <td>NaN</td>\n",
              "      <td>NaN</td>\n",
              "      <td>NaN</td>\n",
              "      <td>NaN</td>\n",
              "      <td>2014.000000</td>\n",
              "      <td>4.400000</td>\n",
              "      <td>7.000000</td>\n",
              "      <td>NaN</td>\n",
              "      <td>NaN</td>\n",
              "      <td>NaN</td>\n",
              "      <td>NaN</td>\n",
              "    </tr>\n",
              "    <tr>\n",
              "      <th>75%</th>\n",
              "      <td>NaN</td>\n",
              "      <td>NaN</td>\n",
              "      <td>NaN</td>\n",
              "      <td>NaN</td>\n",
              "      <td>NaN</td>\n",
              "      <td>NaN</td>\n",
              "      <td>NaN</td>\n",
              "      <td>NaN</td>\n",
              "      <td>NaN</td>\n",
              "      <td>NaN</td>\n",
              "      <td>2017.000000</td>\n",
              "      <td>4.800000</td>\n",
              "      <td>22.000000</td>\n",
              "      <td>NaN</td>\n",
              "      <td>NaN</td>\n",
              "      <td>NaN</td>\n",
              "      <td>NaN</td>\n",
              "    </tr>\n",
              "    <tr>\n",
              "      <th>max</th>\n",
              "      <td>NaN</td>\n",
              "      <td>NaN</td>\n",
              "      <td>NaN</td>\n",
              "      <td>NaN</td>\n",
              "      <td>NaN</td>\n",
              "      <td>NaN</td>\n",
              "      <td>NaN</td>\n",
              "      <td>NaN</td>\n",
              "      <td>NaN</td>\n",
              "      <td>NaN</td>\n",
              "      <td>2019.000000</td>\n",
              "      <td>5.000000</td>\n",
              "      <td>6090.000000</td>\n",
              "      <td>NaN</td>\n",
              "      <td>NaN</td>\n",
              "      <td>NaN</td>\n",
              "      <td>NaN</td>\n",
              "    </tr>\n",
              "  </tbody>\n",
              "</table>\n",
              "</div>"
            ],
            "text/plain": [
              "                                          Title  ... Category2\n",
              "count                                      6237  ...      6237\n",
              "unique                                     5564  ...         6\n",
              "top     CASINO ROYALE: JAMES BOND 007 (VINTAGE)  ...      NONE\n",
              "freq                                          4  ...      3297\n",
              "mean                                        NaN  ...       NaN\n",
              "std                                         NaN  ...       NaN\n",
              "min                                         NaN  ...       NaN\n",
              "25%                                         NaN  ...       NaN\n",
              "50%                                         NaN  ...       NaN\n",
              "75%                                         NaN  ...       NaN\n",
              "max                                         NaN  ...       NaN\n",
              "\n",
              "[11 rows x 17 columns]"
            ]
          },
          "metadata": {
            "tags": []
          },
          "execution_count": 23
        }
      ]
    },
    {
      "cell_type": "code",
      "metadata": {
        "colab": {
          "base_uri": "https://localhost:8080/"
        },
        "id": "bfh_TR3fKRHM",
        "outputId": "0139a069-04be-4706-9fe7-cdec764899ae"
      },
      "source": [
        "\n",
        "X_train.info()"
      ],
      "execution_count": 24,
      "outputs": [
        {
          "output_type": "stream",
          "text": [
            "<class 'pandas.core.frame.DataFrame'>\n",
            "RangeIndex: 6237 entries, 0 to 6236\n",
            "Data columns (total 17 columns):\n",
            " #   Column         Non-Null Count  Dtype  \n",
            "---  ------         --------------  -----  \n",
            " 0   Title          6237 non-null   object \n",
            " 1   Author1        6237 non-null   object \n",
            " 2   Author2        6237 non-null   object \n",
            " 3   Author3        6237 non-null   object \n",
            " 4   Author4        6237 non-null   object \n",
            " 5   Author5        6237 non-null   object \n",
            " 6   Author6        6237 non-null   object \n",
            " 7   Author7        6237 non-null   object \n",
            " 8   Edition_Type   6237 non-null   object \n",
            " 9   Edition_Month  6237 non-null   object \n",
            " 10  Edition_Year   6237 non-null   int64  \n",
            " 11  Ratings        6237 non-null   float64\n",
            " 12  Reviews        6237 non-null   int64  \n",
            " 13  Genre1         6237 non-null   object \n",
            " 14  Genre2         6237 non-null   object \n",
            " 15  Category1      6237 non-null   object \n",
            " 16  Category2      6237 non-null   object \n",
            "dtypes: float64(1), int64(2), object(14)\n",
            "memory usage: 828.5+ KB\n"
          ],
          "name": "stdout"
        }
      ]
    },
    {
      "cell_type": "code",
      "metadata": {
        "colab": {
          "base_uri": "https://localhost:8080/"
        },
        "id": "sHrntrgXKSc0",
        "outputId": "b49b9a25-0a64-4cc8-aef8-bfc7ed958f86"
      },
      "source": [
        "X_test.info()"
      ],
      "execution_count": 25,
      "outputs": [
        {
          "output_type": "stream",
          "text": [
            "<class 'pandas.core.frame.DataFrame'>\n",
            "RangeIndex: 1560 entries, 0 to 1559\n",
            "Data columns (total 17 columns):\n",
            " #   Column         Non-Null Count  Dtype  \n",
            "---  ------         --------------  -----  \n",
            " 0   Title          1560 non-null   object \n",
            " 1   Author1        1560 non-null   object \n",
            " 2   Author2        1560 non-null   object \n",
            " 3   Author3        1560 non-null   object \n",
            " 4   Author4        1560 non-null   object \n",
            " 5   Author5        1560 non-null   object \n",
            " 6   Author6        1560 non-null   object \n",
            " 7   Author7        1560 non-null   object \n",
            " 8   Edition_Type   1560 non-null   object \n",
            " 9   Edition_Month  1560 non-null   object \n",
            " 10  Edition_Year   1560 non-null   int64  \n",
            " 11  Ratings        1560 non-null   float64\n",
            " 12  Reviews        1560 non-null   int64  \n",
            " 13  Genre1         1560 non-null   object \n",
            " 14  Genre2         1560 non-null   object \n",
            " 15  Category1      1560 non-null   object \n",
            " 16  Category2      1560 non-null   object \n",
            "dtypes: float64(1), int64(2), object(14)\n",
            "memory usage: 207.3+ KB\n"
          ],
          "name": "stdout"
        }
      ]
    },
    {
      "cell_type": "code",
      "metadata": {
        "id": "HVYW9-uxKT5g"
      },
      "source": [
        "\n",
        "# A method for Finding Unique items for all columns\n",
        "def unique_items(list1, list2):\n",
        "  a = list1\n",
        "  b = list2\n",
        "  a.extend(b)\n",
        "  return list(set(a))"
      ],
      "execution_count": 26,
      "outputs": []
    },
    {
      "cell_type": "code",
      "metadata": {
        "colab": {
          "base_uri": "https://localhost:8080/"
        },
        "id": "3JRkZ7S9KVVv",
        "outputId": "d5f0830b-294c-434c-8780-1a3864cd3254"
      },
      "source": [
        "from sklearn.preprocessing import LabelEncoder\n",
        "\n",
        "le_Title = LabelEncoder()\n",
        "all_titles = unique_items(list(X_train.Title),list(X_test.Title))\n",
        "le_Title.fit(all_titles)\n",
        "\n",
        "le_Edition_Type = LabelEncoder()\n",
        "all_etypes = unique_items(list(X_train.Edition_Type),list(X_test.Edition_Type))\n",
        "le_Edition_Type.fit(all_etypes)\n",
        "\n",
        "\n",
        "le_Edition_Month = LabelEncoder()\n",
        "all_em = unique_items(list(X_train.Edition_Month),list(X_test.Edition_Month))\n",
        "le_Edition_Month.fit(all_em)\n",
        "\n",
        "le_Author = LabelEncoder()\n",
        "all_Authors = list(set(all_authors))\n",
        "le_Author.fit(all_Authors)\n",
        "\n",
        "le_Genre = LabelEncoder()\n",
        "all_Genres = list(set(all_genres))\n",
        "le_Genre.fit(all_Genres)\n",
        "\n",
        "le_Category = LabelEncoder()\n",
        "all_Categories = list(set(all_categories))\n",
        "le_Category.fit(all_Categories)"
      ],
      "execution_count": 27,
      "outputs": [
        {
          "output_type": "execute_result",
          "data": {
            "text/plain": [
              "LabelEncoder()"
            ]
          },
          "metadata": {
            "tags": []
          },
          "execution_count": 27
        }
      ]
    },
    {
      "cell_type": "code",
      "metadata": {
        "id": "F2pZZpDUKXUg"
      },
      "source": [
        "X_train['Title'] = le_Title.transform(X_train['Title'])\n",
        "\n",
        "X_train['Edition_Type'] = le_Edition_Type.transform(X_train['Edition_Type'])\n",
        "\n",
        "\n",
        "\n",
        "X_train['Edition_Month'] = le_Edition_Month.transform(X_train['Edition_Month'])\n",
        "\n",
        "X_train['Author1'] = le_Author.transform(X_train['Author1'])\n",
        "X_train['Author2'] = le_Author.transform(X_train['Author2'])\n",
        "X_train['Author3'] = le_Author.transform(X_train['Author3'])\n",
        "X_train['Author4'] = le_Author.transform(X_train['Author4'])\n",
        "X_train['Author5'] = le_Author.transform(X_train['Author5'])\n",
        "X_train['Author6'] = le_Author.transform(X_train['Author6'])\n",
        "X_train['Author7'] = le_Author.transform(X_train['Author7'])\n",
        "\n",
        "\n",
        "X_train['Genre1'] = le_Genre.transform(X_train['Genre1'])\n",
        "X_train['Genre2'] = le_Genre.transform(X_train['Genre2'])\n",
        "\n",
        "\n",
        "X_train['Category1'] = le_Category.transform(X_train['Category1'])\n",
        "X_train['Category2'] = le_Category.transform(X_train['Category2'])"
      ],
      "execution_count": 28,
      "outputs": []
    },
    {
      "cell_type": "code",
      "metadata": {
        "colab": {
          "base_uri": "https://localhost:8080/",
          "height": 215
        },
        "id": "wDxFSR_eKf1Y",
        "outputId": "b7690e2a-eb44-49a7-d1bb-f44ab449d045"
      },
      "source": [
        "X_train.head()"
      ],
      "execution_count": 29,
      "outputs": [
        {
          "output_type": "execute_result",
          "data": {
            "text/html": [
              "<div>\n",
              "<style scoped>\n",
              "    .dataframe tbody tr th:only-of-type {\n",
              "        vertical-align: middle;\n",
              "    }\n",
              "\n",
              "    .dataframe tbody tr th {\n",
              "        vertical-align: top;\n",
              "    }\n",
              "\n",
              "    .dataframe thead th {\n",
              "        text-align: right;\n",
              "    }\n",
              "</style>\n",
              "<table border=\"1\" class=\"dataframe\">\n",
              "  <thead>\n",
              "    <tr style=\"text-align: right;\">\n",
              "      <th></th>\n",
              "      <th>Title</th>\n",
              "      <th>Author1</th>\n",
              "      <th>Author2</th>\n",
              "      <th>Author3</th>\n",
              "      <th>Author4</th>\n",
              "      <th>Author5</th>\n",
              "      <th>Author6</th>\n",
              "      <th>Author7</th>\n",
              "      <th>Edition_Type</th>\n",
              "      <th>Edition_Month</th>\n",
              "      <th>Edition_Year</th>\n",
              "      <th>Ratings</th>\n",
              "      <th>Reviews</th>\n",
              "      <th>Genre1</th>\n",
              "      <th>Genre2</th>\n",
              "      <th>Category1</th>\n",
              "      <th>Category2</th>\n",
              "    </tr>\n",
              "  </thead>\n",
              "  <tbody>\n",
              "    <tr>\n",
              "      <th>0</th>\n",
              "      <td>5802</td>\n",
              "      <td>797</td>\n",
              "      <td>3073</td>\n",
              "      <td>3073</td>\n",
              "      <td>3073</td>\n",
              "      <td>3073</td>\n",
              "      <td>3073</td>\n",
              "      <td>3073</td>\n",
              "      <td>13</td>\n",
              "      <td>7</td>\n",
              "      <td>2016</td>\n",
              "      <td>4.0</td>\n",
              "      <td>8</td>\n",
              "      <td>0</td>\n",
              "      <td>267</td>\n",
              "      <td>0</td>\n",
              "      <td>12</td>\n",
              "    </tr>\n",
              "    <tr>\n",
              "      <th>1</th>\n",
              "      <td>2120</td>\n",
              "      <td>391</td>\n",
              "      <td>3073</td>\n",
              "      <td>3073</td>\n",
              "      <td>3073</td>\n",
              "      <td>3073</td>\n",
              "      <td>3073</td>\n",
              "      <td>3073</td>\n",
              "      <td>13</td>\n",
              "      <td>10</td>\n",
              "      <td>2012</td>\n",
              "      <td>3.9</td>\n",
              "      <td>14</td>\n",
              "      <td>80</td>\n",
              "      <td>267</td>\n",
              "      <td>2</td>\n",
              "      <td>6</td>\n",
              "    </tr>\n",
              "    <tr>\n",
              "      <th>2</th>\n",
              "      <td>2984</td>\n",
              "      <td>4353</td>\n",
              "      <td>3073</td>\n",
              "      <td>3073</td>\n",
              "      <td>3073</td>\n",
              "      <td>3073</td>\n",
              "      <td>3073</td>\n",
              "      <td>3073</td>\n",
              "      <td>13</td>\n",
              "      <td>3</td>\n",
              "      <td>1982</td>\n",
              "      <td>4.8</td>\n",
              "      <td>6</td>\n",
              "      <td>211</td>\n",
              "      <td>267</td>\n",
              "      <td>8</td>\n",
              "      <td>12</td>\n",
              "    </tr>\n",
              "    <tr>\n",
              "      <th>3</th>\n",
              "      <td>189</td>\n",
              "      <td>78</td>\n",
              "      <td>3073</td>\n",
              "      <td>3073</td>\n",
              "      <td>3073</td>\n",
              "      <td>3073</td>\n",
              "      <td>3073</td>\n",
              "      <td>3073</td>\n",
              "      <td>13</td>\n",
              "      <td>11</td>\n",
              "      <td>2017</td>\n",
              "      <td>4.1</td>\n",
              "      <td>13</td>\n",
              "      <td>98</td>\n",
              "      <td>267</td>\n",
              "      <td>5</td>\n",
              "      <td>16</td>\n",
              "    </tr>\n",
              "    <tr>\n",
              "      <th>4</th>\n",
              "      <td>2987</td>\n",
              "      <td>1221</td>\n",
              "      <td>3073</td>\n",
              "      <td>3073</td>\n",
              "      <td>3073</td>\n",
              "      <td>3073</td>\n",
              "      <td>3073</td>\n",
              "      <td>3073</td>\n",
              "      <td>8</td>\n",
              "      <td>11</td>\n",
              "      <td>2006</td>\n",
              "      <td>5.0</td>\n",
              "      <td>1</td>\n",
              "      <td>284</td>\n",
              "      <td>267</td>\n",
              "      <td>1</td>\n",
              "      <td>7</td>\n",
              "    </tr>\n",
              "  </tbody>\n",
              "</table>\n",
              "</div>"
            ],
            "text/plain": [
              "   Title  Author1  Author2  Author3  ...  Genre1  Genre2  Category1  Category2\n",
              "0   5802      797     3073     3073  ...       0     267          0         12\n",
              "1   2120      391     3073     3073  ...      80     267          2          6\n",
              "2   2984     4353     3073     3073  ...     211     267          8         12\n",
              "3    189       78     3073     3073  ...      98     267          5         16\n",
              "4   2987     1221     3073     3073  ...     284     267          1          7\n",
              "\n",
              "[5 rows x 17 columns]"
            ]
          },
          "metadata": {
            "tags": []
          },
          "execution_count": 29
        }
      ]
    },
    {
      "cell_type": "code",
      "metadata": {
        "id": "TVIjsM6EKjGl"
      },
      "source": [
        "X_test['Title'] = le_Title.transform(X_test['Title'])\n",
        "\n",
        "X_test['Edition_Type'] = le_Edition_Type.transform(X_test['Edition_Type'])\n",
        "\n",
        "\n",
        "\n",
        "X_test['Edition_Month'] = le_Edition_Month.transform(X_test['Edition_Month'])\n",
        "\n",
        "X_test['Author1'] = le_Author.transform(X_test['Author1'])\n",
        "X_test['Author2'] = le_Author.transform(X_test['Author2'])\n",
        "X_test['Author3'] = le_Author.transform(X_test['Author3'])\n",
        "X_test['Author4'] = le_Author.transform(X_test['Author4'])\n",
        "X_test['Author5'] = le_Author.transform(X_test['Author5'])\n",
        "X_test['Author6'] = le_Author.transform(X_test['Author6'])\n",
        "X_test['Author7'] = le_Author.transform(X_test['Author7'])\n",
        "\n",
        "\n",
        "X_test['Genre1'] = le_Genre.transform(X_test['Genre1'])\n",
        "X_test['Genre2'] = le_Genre.transform(X_test['Genre2'])\n",
        "\n",
        "\n",
        "X_test['Category1'] = le_Category.transform(X_test['Category1'])\n",
        "X_test['Category2'] = le_Category.transform(X_test['Category2'])"
      ],
      "execution_count": 30,
      "outputs": []
    },
    {
      "cell_type": "code",
      "metadata": {
        "colab": {
          "base_uri": "https://localhost:8080/",
          "height": 215
        },
        "id": "yhJkIInCKmJ0",
        "outputId": "a4d3ceca-c53a-4dae-b852-fab5a829a188"
      },
      "source": [
        "X_test.head()"
      ],
      "execution_count": 31,
      "outputs": [
        {
          "output_type": "execute_result",
          "data": {
            "text/html": [
              "<div>\n",
              "<style scoped>\n",
              "    .dataframe tbody tr th:only-of-type {\n",
              "        vertical-align: middle;\n",
              "    }\n",
              "\n",
              "    .dataframe tbody tr th {\n",
              "        vertical-align: top;\n",
              "    }\n",
              "\n",
              "    .dataframe thead th {\n",
              "        text-align: right;\n",
              "    }\n",
              "</style>\n",
              "<table border=\"1\" class=\"dataframe\">\n",
              "  <thead>\n",
              "    <tr style=\"text-align: right;\">\n",
              "      <th></th>\n",
              "      <th>Title</th>\n",
              "      <th>Author1</th>\n",
              "      <th>Author2</th>\n",
              "      <th>Author3</th>\n",
              "      <th>Author4</th>\n",
              "      <th>Author5</th>\n",
              "      <th>Author6</th>\n",
              "      <th>Author7</th>\n",
              "      <th>Edition_Type</th>\n",
              "      <th>Edition_Month</th>\n",
              "      <th>Edition_Year</th>\n",
              "      <th>Ratings</th>\n",
              "      <th>Reviews</th>\n",
              "      <th>Genre1</th>\n",
              "      <th>Genre2</th>\n",
              "      <th>Category1</th>\n",
              "      <th>Category2</th>\n",
              "    </tr>\n",
              "  </thead>\n",
              "  <tbody>\n",
              "    <tr>\n",
              "      <th>0</th>\n",
              "      <td>5082</td>\n",
              "      <td>4058</td>\n",
              "      <td>3073</td>\n",
              "      <td>3073</td>\n",
              "      <td>3073</td>\n",
              "      <td>3073</td>\n",
              "      <td>3073</td>\n",
              "      <td>3073</td>\n",
              "      <td>12</td>\n",
              "      <td>11</td>\n",
              "      <td>1986</td>\n",
              "      <td>4.4</td>\n",
              "      <td>960</td>\n",
              "      <td>324</td>\n",
              "      <td>267</td>\n",
              "      <td>5</td>\n",
              "      <td>16</td>\n",
              "    </tr>\n",
              "    <tr>\n",
              "      <th>1</th>\n",
              "      <td>2906</td>\n",
              "      <td>1401</td>\n",
              "      <td>3073</td>\n",
              "      <td>3073</td>\n",
              "      <td>3073</td>\n",
              "      <td>3073</td>\n",
              "      <td>3073</td>\n",
              "      <td>3073</td>\n",
              "      <td>13</td>\n",
              "      <td>0</td>\n",
              "      <td>2018</td>\n",
              "      <td>5.0</td>\n",
              "      <td>1</td>\n",
              "      <td>273</td>\n",
              "      <td>267</td>\n",
              "      <td>4</td>\n",
              "      <td>9</td>\n",
              "    </tr>\n",
              "    <tr>\n",
              "      <th>2</th>\n",
              "      <td>751</td>\n",
              "      <td>949</td>\n",
              "      <td>3073</td>\n",
              "      <td>3073</td>\n",
              "      <td>3073</td>\n",
              "      <td>3073</td>\n",
              "      <td>3073</td>\n",
              "      <td>3073</td>\n",
              "      <td>13</td>\n",
              "      <td>7</td>\n",
              "      <td>2011</td>\n",
              "      <td>5.0</td>\n",
              "      <td>4</td>\n",
              "      <td>314</td>\n",
              "      <td>267</td>\n",
              "      <td>14</td>\n",
              "      <td>12</td>\n",
              "    </tr>\n",
              "    <tr>\n",
              "      <th>3</th>\n",
              "      <td>6232</td>\n",
              "      <td>169</td>\n",
              "      <td>3073</td>\n",
              "      <td>3073</td>\n",
              "      <td>3073</td>\n",
              "      <td>3073</td>\n",
              "      <td>3073</td>\n",
              "      <td>3073</td>\n",
              "      <td>13</td>\n",
              "      <td>9</td>\n",
              "      <td>2016</td>\n",
              "      <td>4.1</td>\n",
              "      <td>11</td>\n",
              "      <td>295</td>\n",
              "      <td>267</td>\n",
              "      <td>4</td>\n",
              "      <td>9</td>\n",
              "    </tr>\n",
              "    <tr>\n",
              "      <th>4</th>\n",
              "      <td>3790</td>\n",
              "      <td>3505</td>\n",
              "      <td>3073</td>\n",
              "      <td>3073</td>\n",
              "      <td>3073</td>\n",
              "      <td>3073</td>\n",
              "      <td>3073</td>\n",
              "      <td>3073</td>\n",
              "      <td>13</td>\n",
              "      <td>2</td>\n",
              "      <td>2011</td>\n",
              "      <td>4.4</td>\n",
              "      <td>9</td>\n",
              "      <td>235</td>\n",
              "      <td>267</td>\n",
              "      <td>10</td>\n",
              "      <td>11</td>\n",
              "    </tr>\n",
              "  </tbody>\n",
              "</table>\n",
              "</div>"
            ],
            "text/plain": [
              "   Title  Author1  Author2  Author3  ...  Genre1  Genre2  Category1  Category2\n",
              "0   5082     4058     3073     3073  ...     324     267          5         16\n",
              "1   2906     1401     3073     3073  ...     273     267          4          9\n",
              "2    751      949     3073     3073  ...     314     267         14         12\n",
              "3   6232      169     3073     3073  ...     295     267          4          9\n",
              "4   3790     3505     3073     3073  ...     235     267         10         11\n",
              "\n",
              "[5 rows x 17 columns]"
            ]
          },
          "metadata": {
            "tags": []
          },
          "execution_count": 31
        }
      ]
    },
    {
      "cell_type": "code",
      "metadata": {
        "id": "qAKJpL-lKngA"
      },
      "source": [
        "# Feature Scaling\n",
        "\n",
        "from sklearn.preprocessing import StandardScaler\n",
        "sc = StandardScaler()\n",
        "\n",
        "X_train = sc.fit_transform(X_train)\n",
        "\n",
        "X_test = sc.transform(X_test)\n",
        "\n",
        "#Reshaping ti fit the scaler\n",
        "Y_train = Y_train.reshape((len(Y_train), 1)) \n",
        "\n",
        "Y_train = sc.fit_transform(Y_train)\n",
        "\n",
        "#Restoring the original shape after scaling\n",
        "Y_train = Y_train.ravel()"
      ],
      "execution_count": 32,
      "outputs": []
    },
    {
      "cell_type": "code",
      "metadata": {
        "colab": {
          "base_uri": "https://localhost:8080/"
        },
        "id": "NKdt5REbKqNZ",
        "outputId": "37f65743-0e38-4a88-9cc8-655e1763d57b"
      },
      "source": [
        "X_train.shape #SC"
      ],
      "execution_count": 33,
      "outputs": [
        {
          "output_type": "execute_result",
          "data": {
            "text/plain": [
              "(6237, 17)"
            ]
          },
          "metadata": {
            "tags": []
          },
          "execution_count": 33
        }
      ]
    },
    {
      "cell_type": "code",
      "metadata": {
        "colab": {
          "base_uri": "https://localhost:8080/"
        },
        "id": "tigkcGBmKr5d",
        "outputId": "3df1bd31-a725-46fa-f7df-a1e342a8cd76"
      },
      "source": [
        "Y_train.shape #SC"
      ],
      "execution_count": 34,
      "outputs": [
        {
          "output_type": "execute_result",
          "data": {
            "text/plain": [
              "(6237,)"
            ]
          },
          "metadata": {
            "tags": []
          },
          "execution_count": 34
        }
      ]
    },
    {
      "cell_type": "code",
      "metadata": {
        "colab": {
          "base_uri": "https://localhost:8080/"
        },
        "id": "8QftdbiyKtCo",
        "outputId": "3bacace0-3857-41fb-e8e1-c5ed0f5781ee"
      },
      "source": [
        "\n",
        "X_train"
      ],
      "execution_count": 35,
      "outputs": [
        {
          "output_type": "execute_result",
          "data": {
            "text/plain": [
              "array([[ 1.22489462, -1.11014305,  0.10361038, ..., -0.04054244,\n",
              "        -1.21387465,  0.3167796 ],\n",
              "       [-0.64983923, -1.40876249,  0.10361038, ..., -0.04054244,\n",
              "        -0.82060991, -1.88135243],\n",
              "       [-0.20992341,  1.50535127,  0.10361038, ..., -0.04054244,\n",
              "         0.35918432,  0.3167796 ],\n",
              "       ...,\n",
              "       [ 0.91379674, -0.11278358,  0.10361038, ..., -0.04054244,\n",
              "         1.53897855,  0.3167796 ],\n",
              "       [-0.75676322, -1.56395633,  0.10361038, ..., -0.04054244,\n",
              "        -1.21387465,  0.3167796 ],\n",
              "       [ 0.95096556, -0.2951915 ,  0.10361038, ..., -0.04054244,\n",
              "        -1.21387465,  0.3167796 ]])"
            ]
          },
          "metadata": {
            "tags": []
          },
          "execution_count": 35
        }
      ]
    },
    {
      "cell_type": "code",
      "metadata": {
        "colab": {
          "base_uri": "https://localhost:8080/"
        },
        "id": "tcd4LOhmKuKx",
        "outputId": "6f82e276-6a50-4651-a4d4-818d3310efc1"
      },
      "source": [
        "X_test"
      ],
      "execution_count": 36,
      "outputs": [
        {
          "output_type": "execute_result",
          "data": {
            "text/plain": [
              "array([[ 0.8582981 ,  1.2883741 ,  0.10361038, ..., -0.04054244,\n",
              "        -0.23071279,  1.78220095],\n",
              "       [-0.24963804, -0.66589149,  0.10361038, ..., -0.04054244,\n",
              "        -0.42734517, -0.78228642],\n",
              "       [-1.34688178, -0.99834465,  0.10361038, ..., -0.04054244,\n",
              "         1.53897855,  0.3167796 ],\n",
              "       ...,\n",
              "       [ 1.06145367,  0.00342793,  0.10361038, ..., -0.04054244,\n",
              "         0.35918432,  0.3167796 ],\n",
              "       [ 0.20911677, -0.49672284,  0.10361038, ..., -0.04054244,\n",
              "        -0.82060991, -1.88135243],\n",
              "       [-1.15085447, -1.35139225,  0.10361038, ..., -0.04054244,\n",
              "         0.75244907, -0.04957574]])"
            ]
          },
          "metadata": {
            "tags": []
          },
          "execution_count": 36
        }
      ]
    },
    {
      "cell_type": "code",
      "metadata": {
        "id": "zNpWyv9CKveo"
      },
      "source": [
        "from sklearn.model_selection import train_test_split\n",
        "\n",
        "train_x, val_x, train_y, val_y = train_test_split(X_train, Y_train, test_size = 0.1, random_state = 123)"
      ],
      "execution_count": 37,
      "outputs": []
    },
    {
      "cell_type": "code",
      "metadata": {
        "colab": {
          "base_uri": "https://localhost:8080/"
        },
        "id": "_ZR5YpifKxg0",
        "outputId": "14876fe5-b49d-437e-ea18-31c4905cad9b"
      },
      "source": [
        "print(train_x.shape)\n",
        "print(train_y.shape)\n",
        "print(val_x.shape)\n",
        "print(val_y.shape)"
      ],
      "execution_count": 38,
      "outputs": [
        {
          "output_type": "stream",
          "text": [
            "(5613, 17)\n",
            "(5613,)\n",
            "(624, 17)\n",
            "(624,)\n"
          ],
          "name": "stdout"
        }
      ]
    },
    {
      "cell_type": "code",
      "metadata": {
        "colab": {
          "base_uri": "https://localhost:8080/"
        },
        "id": "aBXEv4vAKyus",
        "outputId": "14595aea-e29b-4b33-a0c2-53773bbaeb48"
      },
      "source": [
        "from xgboost import XGBRegressor\n",
        "import numpy as np\n",
        "\n",
        "xgb=XGBRegressor( objective='reg:squarederror', max_depth=6, learning_rate=0.1, n_estimators=100, booster = 'gbtree', n_jobs = -1,random_state = 1)\n",
        "xgb.fit(train_x,train_y)\n",
        "\n",
        "y_pred = sc.inverse_transform(xgb.predict(val_x))\n",
        "y_true = sc.inverse_transform(val_y)\n",
        "\n",
        "error = np.square(np.log10(y_pred +1) - np.log10(y_true +1)).mean() ** 0.5\n",
        "score = 1 - error\n",
        "\n",
        "print(\"RMLSE Score = \", score)"
      ],
      "execution_count": 39,
      "outputs": [
        {
          "output_type": "stream",
          "text": [
            "RMLSE Score =  0.7163958922112829\n"
          ],
          "name": "stdout"
        }
      ]
    },
    {
      "cell_type": "code",
      "metadata": {
        "colab": {
          "base_uri": "https://localhost:8080/"
        },
        "id": "oMEfVcdeK1EM",
        "outputId": "ba22ebcf-5890-497c-848f-2d7ca48d9c76"
      },
      "source": [
        "\n",
        "xgb.fit(X_train,Y_train)"
      ],
      "execution_count": 40,
      "outputs": [
        {
          "output_type": "execute_result",
          "data": {
            "text/plain": [
              "XGBRegressor(base_score=0.5, booster='gbtree', colsample_bylevel=1,\n",
              "             colsample_bynode=1, colsample_bytree=1, gamma=0,\n",
              "             importance_type='gain', learning_rate=0.1, max_delta_step=0,\n",
              "             max_depth=6, min_child_weight=1, missing=None, n_estimators=100,\n",
              "             n_jobs=-1, nthread=None, objective='reg:squarederror',\n",
              "             random_state=1, reg_alpha=0, reg_lambda=1, scale_pos_weight=1,\n",
              "             seed=None, silent=None, subsample=1, verbosity=1)"
            ]
          },
          "metadata": {
            "tags": []
          },
          "execution_count": 40
        }
      ]
    },
    {
      "cell_type": "code",
      "metadata": {
        "id": "edh4iW_VK2j0"
      },
      "source": [
        "\n",
        "\n",
        "y_pred_xgb = sc.inverse_transform(xgb.predict(X_test))"
      ],
      "execution_count": 41,
      "outputs": []
    },
    {
      "cell_type": "code",
      "metadata": {
        "id": "9eQL5-GIK4HE"
      },
      "source": [
        "\n",
        "\n",
        "solution = pd.DataFrame(y_pred_xgb, columns = ['Price'])\n",
        "solution.to_excel('Predict_Book_Price_Soln.xlsx', index = False)"
      ],
      "execution_count": 42,
      "outputs": []
    },
    {
      "cell_type": "code",
      "metadata": {
        "colab": {
          "base_uri": "https://localhost:8080/",
          "height": 343
        },
        "id": "zBecN3ftK5wI",
        "outputId": "23a6c250-44c1-4e4e-bfda-e48d96bdee71"
      },
      "source": [
        "solution.head(10)"
      ],
      "execution_count": 43,
      "outputs": [
        {
          "output_type": "execute_result",
          "data": {
            "text/html": [
              "<div>\n",
              "<style scoped>\n",
              "    .dataframe tbody tr th:only-of-type {\n",
              "        vertical-align: middle;\n",
              "    }\n",
              "\n",
              "    .dataframe tbody tr th {\n",
              "        vertical-align: top;\n",
              "    }\n",
              "\n",
              "    .dataframe thead th {\n",
              "        text-align: right;\n",
              "    }\n",
              "</style>\n",
              "<table border=\"1\" class=\"dataframe\">\n",
              "  <thead>\n",
              "    <tr style=\"text-align: right;\">\n",
              "      <th></th>\n",
              "      <th>Price</th>\n",
              "    </tr>\n",
              "  </thead>\n",
              "  <tbody>\n",
              "    <tr>\n",
              "      <th>0</th>\n",
              "      <td>214.681122</td>\n",
              "    </tr>\n",
              "    <tr>\n",
              "      <th>1</th>\n",
              "      <td>1330.917114</td>\n",
              "    </tr>\n",
              "    <tr>\n",
              "      <th>2</th>\n",
              "      <td>624.322449</td>\n",
              "    </tr>\n",
              "    <tr>\n",
              "      <th>3</th>\n",
              "      <td>844.769043</td>\n",
              "    </tr>\n",
              "    <tr>\n",
              "      <th>4</th>\n",
              "      <td>425.502533</td>\n",
              "    </tr>\n",
              "    <tr>\n",
              "      <th>5</th>\n",
              "      <td>890.277893</td>\n",
              "    </tr>\n",
              "    <tr>\n",
              "      <th>6</th>\n",
              "      <td>956.208252</td>\n",
              "    </tr>\n",
              "    <tr>\n",
              "      <th>7</th>\n",
              "      <td>339.453979</td>\n",
              "    </tr>\n",
              "    <tr>\n",
              "      <th>8</th>\n",
              "      <td>558.580017</td>\n",
              "    </tr>\n",
              "    <tr>\n",
              "      <th>9</th>\n",
              "      <td>467.108673</td>\n",
              "    </tr>\n",
              "  </tbody>\n",
              "</table>\n",
              "</div>"
            ],
            "text/plain": [
              "         Price\n",
              "0   214.681122\n",
              "1  1330.917114\n",
              "2   624.322449\n",
              "3   844.769043\n",
              "4   425.502533\n",
              "5   890.277893\n",
              "6   956.208252\n",
              "7   339.453979\n",
              "8   558.580017\n",
              "9   467.108673"
            ]
          },
          "metadata": {
            "tags": []
          },
          "execution_count": 43
        }
      ]
    },
    {
      "cell_type": "code",
      "metadata": {
        "colab": {
          "base_uri": "https://localhost:8080/"
        },
        "id": "XWjiLZ51K7GE",
        "outputId": "3ce5f9bd-ff48-4411-80dc-e55f12339b79"
      },
      "source": [
        "!pip install bayesian-optimization"
      ],
      "execution_count": 44,
      "outputs": [
        {
          "output_type": "stream",
          "text": [
            "Collecting bayesian-optimization\n",
            "  Downloading https://files.pythonhosted.org/packages/bb/7a/fd8059a3881d3ab37ac8f72f56b73937a14e8bb14a9733e68cc8b17dbe3c/bayesian-optimization-1.2.0.tar.gz\n",
            "Requirement already satisfied: numpy>=1.9.0 in /usr/local/lib/python3.6/dist-packages (from bayesian-optimization) (1.18.5)\n",
            "Requirement already satisfied: scipy>=0.14.0 in /usr/local/lib/python3.6/dist-packages (from bayesian-optimization) (1.4.1)\n",
            "Requirement already satisfied: scikit-learn>=0.18.0 in /usr/local/lib/python3.6/dist-packages (from bayesian-optimization) (0.22.2.post1)\n",
            "Requirement already satisfied: joblib>=0.11 in /usr/local/lib/python3.6/dist-packages (from scikit-learn>=0.18.0->bayesian-optimization) (0.17.0)\n",
            "Building wheels for collected packages: bayesian-optimization\n",
            "  Building wheel for bayesian-optimization (setup.py) ... \u001b[?25l\u001b[?25hdone\n",
            "  Created wheel for bayesian-optimization: filename=bayesian_optimization-1.2.0-cp36-none-any.whl size=11685 sha256=81fda9a2c101a7e950c41e8fd0da02aaed4ab6c14171ccf984449c1ef580e0bf\n",
            "  Stored in directory: /root/.cache/pip/wheels/5a/56/ae/e0e3c1fc1954dc3ec712e2df547235ed072b448094d8f94aec\n",
            "Successfully built bayesian-optimization\n",
            "Installing collected packages: bayesian-optimization\n",
            "Successfully installed bayesian-optimization-1.2.0\n"
          ],
          "name": "stdout"
        }
      ]
    },
    {
      "cell_type": "code",
      "metadata": {
        "id": "4cNx1svMK9pQ"
      },
      "source": [
        "\n",
        "from bayes_opt import BayesianOptimization\n",
        "import xgboost as xgb"
      ],
      "execution_count": 45,
      "outputs": []
    },
    {
      "cell_type": "code",
      "metadata": {
        "id": "oJuhuLaRLAN6"
      },
      "source": [
        "dtrain = xgb.DMatrix(X_train, label= Y_train)"
      ],
      "execution_count": 46,
      "outputs": []
    },
    {
      "cell_type": "code",
      "metadata": {
        "id": "VNloFqvXLBfx"
      },
      "source": [
        "def bo_tune_xgb(max_depth, gamma, n_estimators ,learning_rate):\n",
        "    params = {'max_depth': int(max_depth),\n",
        "              'gamma': gamma,      \n",
        "              'n_estimators': int(n_estimators),\n",
        "              'learning_rate':learning_rate,\n",
        "              'subsample': 0.8,\n",
        "              'eta': 0.1,\n",
        "              'eval_metric': 'rmse'}\n",
        "    \n",
        "    \n",
        "    cv_result = xgb.cv(params, dtrain, num_boost_round=100, nfold=10)    \n",
        "    \n",
        "    return -1.0 * cv_result['test-rmse-mean'].iloc[-1]"
      ],
      "execution_count": 47,
      "outputs": []
    },
    {
      "cell_type": "code",
      "metadata": {
        "colab": {
          "base_uri": "https://localhost:8080/"
        },
        "id": "vQO86-qcLEAs",
        "outputId": "4b779699-4f48-4ec5-9bca-58a743ce5f00"
      },
      "source": [
        "xgb_bo = BayesianOptimization(bo_tune_xgb, {'max_depth': (1, 300), \n",
        "                                             'gamma': (0, 1),\n",
        "                                             'learning_rate':(0,1),\n",
        "                                             'n_estimators':(1,1000)\n",
        "                                            })\n",
        "\n",
        "\n",
        "xgb_bo.maximize(n_iter=10, init_points=10, acq='ei')"
      ],
      "execution_count": 48,
      "outputs": [
        {
          "output_type": "stream",
          "text": [
            "|   iter    |  target   |   gamma   | learni... | max_depth | n_esti... |\n",
            "-------------------------------------------------------------------------\n",
            "| \u001b[0m 1       \u001b[0m | \u001b[0m-0.9084  \u001b[0m | \u001b[0m 0.3332  \u001b[0m | \u001b[0m 0.0365  \u001b[0m | \u001b[0m 260.6   \u001b[0m | \u001b[0m 41.46   \u001b[0m |\n",
            "| \u001b[95m 2       \u001b[0m | \u001b[95m-0.9061  \u001b[0m | \u001b[95m 0.8987  \u001b[0m | \u001b[95m 0.03691 \u001b[0m | \u001b[95m 41.48   \u001b[0m | \u001b[95m 773.1   \u001b[0m |\n",
            "| \u001b[0m 3       \u001b[0m | \u001b[0m-1.082   \u001b[0m | \u001b[0m 0.4463  \u001b[0m | \u001b[0m 0.7994  \u001b[0m | \u001b[0m 174.7   \u001b[0m | \u001b[0m 660.8   \u001b[0m |\n",
            "| \u001b[0m 4       \u001b[0m | \u001b[0m-1.083   \u001b[0m | \u001b[0m 0.8653  \u001b[0m | \u001b[0m 0.9134  \u001b[0m | \u001b[0m 125.6   \u001b[0m | \u001b[0m 866.2   \u001b[0m |\n",
            "| \u001b[0m 5       \u001b[0m | \u001b[0m-0.9169  \u001b[0m | \u001b[0m 0.866   \u001b[0m | \u001b[0m 0.1177  \u001b[0m | \u001b[0m 23.87   \u001b[0m | \u001b[0m 787.7   \u001b[0m |\n",
            "| \u001b[0m 6       \u001b[0m | \u001b[0m-1.037   \u001b[0m | \u001b[0m 0.6798  \u001b[0m | \u001b[0m 0.6518  \u001b[0m | \u001b[0m 203.5   \u001b[0m | \u001b[0m 679.1   \u001b[0m |\n",
            "| \u001b[0m 7       \u001b[0m | \u001b[0m-1.022   \u001b[0m | \u001b[0m 0.9352  \u001b[0m | \u001b[0m 0.637   \u001b[0m | \u001b[0m 52.0    \u001b[0m | \u001b[0m 448.6   \u001b[0m |\n",
            "| \u001b[0m 8       \u001b[0m | \u001b[0m-0.9742  \u001b[0m | \u001b[0m 0.6259  \u001b[0m | \u001b[0m 0.3778  \u001b[0m | \u001b[0m 71.85   \u001b[0m | \u001b[0m 480.4   \u001b[0m |\n",
            "| \u001b[0m 9       \u001b[0m | \u001b[0m-1.028   \u001b[0m | \u001b[0m 0.323   \u001b[0m | \u001b[0m 0.5646  \u001b[0m | \u001b[0m 54.58   \u001b[0m | \u001b[0m 431.6   \u001b[0m |\n",
            "| \u001b[0m 10      \u001b[0m | \u001b[0m-1.023   \u001b[0m | \u001b[0m 0.1637  \u001b[0m | \u001b[0m 0.5179  \u001b[0m | \u001b[0m 10.97   \u001b[0m | \u001b[0m 388.2   \u001b[0m |\n",
            "| \u001b[0m 11      \u001b[0m | \u001b[0m-1.094   \u001b[0m | \u001b[0m 0.4958  \u001b[0m | \u001b[0m 0.8568  \u001b[0m | \u001b[0m 260.7   \u001b[0m | \u001b[0m 39.67   \u001b[0m |\n",
            "| \u001b[0m 12      \u001b[0m | \u001b[0m-1.112   \u001b[0m | \u001b[0m 0.0     \u001b[0m | \u001b[0m 0.0     \u001b[0m | \u001b[0m 259.5   \u001b[0m | \u001b[0m 57.82   \u001b[0m |\n",
            "| \u001b[0m 13      \u001b[0m | \u001b[0m-1.138   \u001b[0m | \u001b[0m 0.02714 \u001b[0m | \u001b[0m 0.9737  \u001b[0m | \u001b[0m 14.44   \u001b[0m | \u001b[0m 756.2   \u001b[0m |\n",
            "| \u001b[0m 14      \u001b[0m | \u001b[0m-0.9102  \u001b[0m | \u001b[0m 0.7929  \u001b[0m | \u001b[0m 0.05098 \u001b[0m | \u001b[0m 52.22   \u001b[0m | \u001b[0m 801.8   \u001b[0m |\n",
            "| \u001b[0m 15      \u001b[0m | \u001b[0m-1.003   \u001b[0m | \u001b[0m 0.7121  \u001b[0m | \u001b[0m 0.5311  \u001b[0m | \u001b[0m 74.32   \u001b[0m | \u001b[0m 775.7   \u001b[0m |\n",
            "| \u001b[0m 16      \u001b[0m | \u001b[0m-1.112   \u001b[0m | \u001b[0m 0.03119 \u001b[0m | \u001b[0m 0.0     \u001b[0m | \u001b[0m 24.4    \u001b[0m | \u001b[0m 823.8   \u001b[0m |\n",
            "| \u001b[0m 17      \u001b[0m | \u001b[0m-0.9156  \u001b[0m | \u001b[0m 1.0     \u001b[0m | \u001b[0m 0.0669  \u001b[0m | \u001b[0m 83.24   \u001b[0m | \u001b[0m 821.2   \u001b[0m |\n",
            "| \u001b[0m 18      \u001b[0m | \u001b[0m-0.9689  \u001b[0m | \u001b[0m 0.3936  \u001b[0m | \u001b[0m 0.303   \u001b[0m | \u001b[0m 116.4   \u001b[0m | \u001b[0m 802.9   \u001b[0m |\n",
            "| \u001b[0m 19      \u001b[0m | \u001b[0m-1.052   \u001b[0m | \u001b[0m 0.1784  \u001b[0m | \u001b[0m 0.6453  \u001b[0m | \u001b[0m 71.88   \u001b[0m | \u001b[0m 859.7   \u001b[0m |\n",
            "| \u001b[0m 20      \u001b[0m | \u001b[0m-1.068   \u001b[0m | \u001b[0m 0.8542  \u001b[0m | \u001b[0m 0.7529  \u001b[0m | \u001b[0m 99.87   \u001b[0m | \u001b[0m 518.4   \u001b[0m |\n",
            "=========================================================================\n"
          ],
          "name": "stdout"
        }
      ]
    },
    {
      "cell_type": "code",
      "metadata": {
        "colab": {
          "base_uri": "https://localhost:8080/"
        },
        "id": "w0jFnh2bLGCU",
        "outputId": "a68c6fb4-2a21-4f75-ed50-d540bfd8d65e"
      },
      "source": [
        "\n",
        "params = xgb_bo.max['params']\n",
        "\n",
        "print(params)\n",
        "\n",
        "params['max_depth']= int(round(params['max_depth']))\n",
        "params['n_estimators']= int(round(params['n_estimators']))\n",
        "\n",
        "print(params)\n",
        "\n",
        "from xgboost import XGBRegressor\n",
        "reg = XGBRegressor(**params).fit(X_train,Y_train)\n",
        "\n",
        "y_pred_reg = sc.inverse_transform(reg.predict(X_test))"
      ],
      "execution_count": 49,
      "outputs": [
        {
          "output_type": "stream",
          "text": [
            "{'gamma': 0.8986693040529077, 'learning_rate': 0.03690846867725417, 'max_depth': 41.480296714500064, 'n_estimators': 773.0508296369364}\n",
            "{'gamma': 0.8986693040529077, 'learning_rate': 0.03690846867725417, 'max_depth': 41, 'n_estimators': 773}\n",
            "[12:41:29] WARNING: /workspace/src/objective/regression_obj.cu:152: reg:linear is now deprecated in favor of reg:squarederror.\n"
          ],
          "name": "stdout"
        }
      ]
    },
    {
      "cell_type": "code",
      "metadata": {
        "colab": {
          "base_uri": "https://localhost:8080/",
          "height": 343
        },
        "id": "sM3btupbOJxO",
        "outputId": "84b89097-2bf2-4fb2-c4a7-6a06fc2f2012"
      },
      "source": [
        "solution_bo = pd.DataFrame(y_pred_reg, columns = ['Price'])\n",
        "\n",
        "solution_bo.head(10)"
      ],
      "execution_count": 50,
      "outputs": [
        {
          "output_type": "execute_result",
          "data": {
            "text/html": [
              "<div>\n",
              "<style scoped>\n",
              "    .dataframe tbody tr th:only-of-type {\n",
              "        vertical-align: middle;\n",
              "    }\n",
              "\n",
              "    .dataframe tbody tr th {\n",
              "        vertical-align: top;\n",
              "    }\n",
              "\n",
              "    .dataframe thead th {\n",
              "        text-align: right;\n",
              "    }\n",
              "</style>\n",
              "<table border=\"1\" class=\"dataframe\">\n",
              "  <thead>\n",
              "    <tr style=\"text-align: right;\">\n",
              "      <th></th>\n",
              "      <th>Price</th>\n",
              "    </tr>\n",
              "  </thead>\n",
              "  <tbody>\n",
              "    <tr>\n",
              "      <th>0</th>\n",
              "      <td>234.013641</td>\n",
              "    </tr>\n",
              "    <tr>\n",
              "      <th>1</th>\n",
              "      <td>1729.604614</td>\n",
              "    </tr>\n",
              "    <tr>\n",
              "      <th>2</th>\n",
              "      <td>393.672333</td>\n",
              "    </tr>\n",
              "    <tr>\n",
              "      <th>3</th>\n",
              "      <td>890.626160</td>\n",
              "    </tr>\n",
              "    <tr>\n",
              "      <th>4</th>\n",
              "      <td>323.397644</td>\n",
              "    </tr>\n",
              "    <tr>\n",
              "      <th>5</th>\n",
              "      <td>576.507446</td>\n",
              "    </tr>\n",
              "    <tr>\n",
              "      <th>6</th>\n",
              "      <td>643.358765</td>\n",
              "    </tr>\n",
              "    <tr>\n",
              "      <th>7</th>\n",
              "      <td>329.986450</td>\n",
              "    </tr>\n",
              "    <tr>\n",
              "      <th>8</th>\n",
              "      <td>435.777191</td>\n",
              "    </tr>\n",
              "    <tr>\n",
              "      <th>9</th>\n",
              "      <td>379.410645</td>\n",
              "    </tr>\n",
              "  </tbody>\n",
              "</table>\n",
              "</div>"
            ],
            "text/plain": [
              "         Price\n",
              "0   234.013641\n",
              "1  1729.604614\n",
              "2   393.672333\n",
              "3   890.626160\n",
              "4   323.397644\n",
              "5   576.507446\n",
              "6   643.358765\n",
              "7   329.986450\n",
              "8   435.777191\n",
              "9   379.410645"
            ]
          },
          "metadata": {
            "tags": []
          },
          "execution_count": 50
        }
      ]
    },
    {
      "cell_type": "code",
      "metadata": {
        "id": "o2x8fqcqOayz"
      },
      "source": [
        "\n",
        "solution_bo.to_excel('Last Soln.xlsx', index = False)"
      ],
      "execution_count": 51,
      "outputs": []
    },
    {
      "cell_type": "code",
      "metadata": {
        "id": "jcZ-LGJeOdpf"
      },
      "source": [
        ""
      ],
      "execution_count": null,
      "outputs": []
    }
  ]
}